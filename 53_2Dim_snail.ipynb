{
 "cells": [
  {
   "cell_type": "markdown",
   "id": "953739aa",
   "metadata": {},
   "source": [
    "<img src=\"./images/2Dim_snail1.png\" width=\"800\" align=\"left\" title=\"2Dim_zigzag\">"
   ]
  },
  {
   "cell_type": "markdown",
   "id": "0630d47d",
   "metadata": {},
   "source": [
    "<img src=\"./images/2Dim_snail2.png\" width=\"500\" align=\"left\" title=\"2Dim_zigzag\">"
   ]
  },
  {
   "cell_type": "code",
   "execution_count": 5,
   "id": "9a7ae84f",
   "metadata": {},
   "outputs": [],
   "source": [
    "def pprint(data):\n",
    "    for i in range(len(data)):\n",
    "        for j in range(len(data[i])):\n",
    "            print('{:2d}'.format(data[i][j]), end=' ')\n",
    "        print()"
   ]
  },
  {
   "cell_type": "code",
   "execution_count": 6,
   "id": "86b25198",
   "metadata": {
    "scrolled": true
   },
   "outputs": [
    {
     "name": "stdout",
     "output_type": "stream",
     "text": [
      " 1  2  3  4  5 \n",
      "16 17 18 19  6 \n",
      "15 24 25 20  7 \n",
      "14 23 22 21  8 \n",
      "13 12 11 10  9 \n"
     ]
    }
   ],
   "source": [
    "a = [[0] * 5 for _ in range(5)]\n",
    "# pprint(a)\n",
    "n = 0 # 1에서 25까지 1씩 증가하는 변수\n",
    "s = 1 # 행과 열이 1또는 -1씩 증가 및 감소 처리에 사용하는 변수\n",
    "i = 0 # 행\n",
    "j = -1 # 열\n",
    "k = 5 # 숫자를 채우는 반복문 반복 횟수 제어에 사용하는 변수\n",
    "\n",
    "while True:\n",
    "    # 행 방향으로 숫자를 채운다.\n",
    "    for p in range(1, k+1):\n",
    "        n += 1\n",
    "        j += s\n",
    "        a[i][j] = n\n",
    "    # ===== for p\n",
    "    # k를 1감소 시키고 조건에 만족하면 무한 루프를 탈출한다.\n",
    "    k -= 1\n",
    "    if k<= 0:\n",
    "        break\n",
    "    # ===== if\n",
    "    # 열 방향으로 숫자를 채운다.\n",
    "    for p in range(1, k +1):\n",
    "        n += 1\n",
    "        i += s\n",
    "        a[i][j] = n\n",
    "    # ===== for p\n",
    "    s *= -1\n",
    "# ===== while\n",
    "pprint(a)"
   ]
  },
  {
   "cell_type": "code",
   "execution_count": 9,
   "id": "572d978c",
   "metadata": {},
   "outputs": [
    {
     "name": "stdout",
     "output_type": "stream",
     "text": [
      "2차원 리스트의 차수를 3 이상인 홀수로 입력하세요: 5\n",
      " 1  2  3  4  5 \n",
      "16 17 18 19  6 \n",
      "15 24 25 20  7 \n",
      "14 23 22 21  8 \n",
      "13 12 11 10  9 \n"
     ]
    }
   ],
   "source": [
    "while True:\n",
    "    m = int(input('2차원 리스트의 차수를 3 이상인 홀수로 입력하세요: '))\n",
    "    if  m % 2 ==1 and m >= 3:\n",
    "        break\n",
    "    # ===== if\n",
    "    print('2차원 리스트의 차수를 3 이상인 홀수로 입력해야 합니다.')\n",
    "# ===== while\n",
    "a = [[0] * m for _ in range(m)]\n",
    "\n",
    "n = 0 # 1에서 m*m까지 1씩 증가하는 변수\n",
    "s = 1 # 행과 열이 1또는 -1씩 증가 및 감소 처리에 사용하는 변수\n",
    "i = 0 # 행\n",
    "j = -1 # 열\n",
    "k = m # 숫자를 채우는 반복문 반복 횟수 제어에 사용하는 변수\n",
    "\n",
    "while True:\n",
    "    # 행 방향으로 숫자를 채운다.\n",
    "    for p in range(1, k+1):\n",
    "        n += 1\n",
    "        j += s\n",
    "        a[i][j] = n\n",
    "    # ===== for p\n",
    "    # k를 1감소 시키고 조건에 만족하면 무한 루프를 탈출한다.\n",
    "    k -= 1\n",
    "    if k<= 0:\n",
    "        break\n",
    "    # ===== if\n",
    "    # 열 방향으로 숫자를 채운다.\n",
    "    for p in range(1, k +1):\n",
    "        n += 1\n",
    "        i += s\n",
    "        a[i][j] = n\n",
    "    # ===== for p\n",
    "    s *= -1\n",
    "# ===== while\n",
    "pprint(a)"
   ]
  },
  {
   "cell_type": "code",
   "execution_count": 17,
   "id": "17b72738",
   "metadata": {},
   "outputs": [
    {
     "name": "stdout",
     "output_type": "stream",
     "text": [
      "21 22 23 24 25 \n",
      "20  7  8  9 10 \n",
      "19  6  1  2 11 \n",
      "18  5  4  3 12 \n",
      "17 16 15 14 13 \n"
     ]
    }
   ],
   "source": [
    "a = [[0] * 5 for _ in range(5)]\n",
    "# 2차원 리스트의 정 가운데 위치에 1이 채워져있다는 가정을 하고 시작한다.\n",
    "n = 1; i = 2; j = 2; a[i][j] = n; s = 1\n",
    "k = 1 # 안쪽 부터 바깥쪽으로 숫자를 채우기 때문에 반복 횟수를 제어하는 변수는 1로 시작한다.\n",
    "flag = False # 마지막 숫자까지 채워졌나 확인하는 변수\n",
    "\n",
    "while True:\n",
    "    k += 1 # 3시 방향부터 숫자를 채운다.\n",
    "    for p in range(1, k): \n",
    "        n += 1; j += s\n",
    "        if n > 25:\n",
    "            flag = True\n",
    "            break\n",
    "        a[i][j] = n\n",
    "    # ===== for p\n",
    "    # 반복문이 정상적으로 종료되면 flag 변수에 False가 저장되어있으므로 다음 반복을 진행하고\n",
    "    # 반복문이 break에 의해 종료되면 flag 변수가 True가 저장되어 있으므로 프로그램을 종료한다.\n",
    "    if flag:\n",
    "        break\n",
    "    # ===== if\n",
    "    for p in range(1, k):\n",
    "        n += 1\n",
    "        i += s\n",
    "        a[i][j] = n\n",
    "    # ===== for p\n",
    "    s *= -1\n",
    "    # k += 1 # 9시 방향부터 숫자를 채운다.\n",
    "# ===== while\n",
    "pprint(a)"
   ]
  },
  {
   "cell_type": "code",
   "execution_count": 24,
   "id": "46b96dac",
   "metadata": {},
   "outputs": [
    {
     "name": "stdout",
     "output_type": "stream",
     "text": [
      "2차원 리스트의 차수를 3 이상인 홀수로 입력하세요: 9\n",
      "57 58 59 60 61 62 63 64 65 \n",
      "56 31 32 33 34 35 36 37 66 \n",
      "55 30 13 14 15 16 17 38 67 \n",
      "54 29 12  3  4  5 18 39 68 \n",
      "53 28 11  2  1  6 19 40 69 \n",
      "52 27 10  9  8  7 20 41 70 \n",
      "51 26 25 24 23 22 21 42 71 \n",
      "50 49 48 47 46 45 44 43 72 \n",
      "81 80 79 78 77 76 75 74 73 \n"
     ]
    }
   ],
   "source": [
    "while True:\n",
    "    m = int(input('2차원 리스트의 차수를 3 이상인 홀수로 입력하세요: '))\n",
    "    if  m % 2 ==1 and m >= 3:\n",
    "        break\n",
    "    # ===== if\n",
    "    print('2차원 리스트의 차수를 3 이상인 홀수로 입력해야 합니다.')\n",
    "# ===== while\n",
    "a = [[0] * m for _ in range(m)]\n",
    "i = m//2; j = m//2; # 2차원 리스트의 정 가운데 위치를 잡아준다.\n",
    "n = 1; a[i][j] = n; s = 1; k = 1; flag = False \n",
    "\n",
    "while True:\n",
    "    # k += 1 # 3시 방향부터 숫자를 채운다.\n",
    "    for p in range(1, k): \n",
    "        n += 1; j += s\n",
    "        if n > m ** 2:\n",
    "            flag = True\n",
    "            break\n",
    "        a[i][j] = n\n",
    "    # ===== for p\n",
    "    # 반복문이 정상적으로 종료되면 flag 변수에 False가 저장되어있으므로 다음 반복을 진행하고\n",
    "    # 반복문이 break에 의해 종료되면 flag 변수가 True가 저장되어 있으므로 프로그램을 종료한다.\n",
    "    if flag:\n",
    "        break\n",
    "    # ===== if\n",
    "    for p in range(1, k):\n",
    "        n += 1\n",
    "        i += s\n",
    "        a[i][j] = n\n",
    "    # ===== for p\n",
    "    s *= -1\n",
    "    k += 1 # 9시 방향부터 숫자를 채운다.\n",
    "# ===== while\n",
    "pprint(a)"
   ]
  }
 ],
 "metadata": {
  "kernelspec": {
   "display_name": "Python 3",
   "language": "python",
   "name": "python3"
  },
  "language_info": {
   "codemirror_mode": {
    "name": "ipython",
    "version": 3
   },
   "file_extension": ".py",
   "mimetype": "text/x-python",
   "name": "python",
   "nbconvert_exporter": "python",
   "pygments_lexer": "ipython3",
   "version": "3.6.8"
  }
 },
 "nbformat": 4,
 "nbformat_minor": 5
}
