{
 "cells": [
  {
   "cell_type": "code",
   "execution_count": 1,
   "id": "ef06ecff",
   "metadata": {},
   "outputs": [],
   "source": [
    "import random"
   ]
  },
  {
   "cell_type": "code",
   "execution_count": 11,
   "id": "d006cedf",
   "metadata": {},
   "outputs": [],
   "source": [
    "# 카드 출력에 사용할 숫자와 무늬를 기억하는 리스트 또는 튜플을 만든다.\n",
    "number = ['A','1','2','3','4','5','6','7','8','9','J','Q','K']\n",
    "symbol = [\"♠\",\"◇\",\"♥\",\"♧\"]"
   ]
  },
  {
   "cell_type": "code",
   "execution_count": 27,
   "id": "53155177",
   "metadata": {},
   "outputs": [
    {
     "name": "stdout",
     "output_type": "stream",
     "text": [
      "♠ A ♠ 1 ♠ 2 ♠ 3 ♠ 4 ♠ 5 ♠ 6 ♠ 7 ♠ 8 ♠ 9 ♠ J ♠ Q ♠ K \n",
      "◇ A ◇ 1 ◇ 2 ◇ 3 ◇ 4 ◇ 5 ◇ 6 ◇ 7 ◇ 8 ◇ 9 ◇ J ◇ Q ◇ K \n",
      "♥ A ♥ 1 ♥ 2 ♥ 3 ♥ 4 ♥ 5 ♥ 6 ♥ 7 ♥ 8 ♥ 9 ♥ J ♥ Q ♥ K \n",
      "♧ A ♧ 1 ♧ 2 ♧ 3 ♧ 4 ♧ 5 ♧ 6 ♧ 7 ♧ 8 ♧ 9 ♧ J ♧ Q ♧ K \n",
      "==================================================섞기 전\n",
      "♠ 1 ♧ 1 ◇ 6 ♥ 8 ♠ 7 ◇ J ♥ 7 ♠ 6 ♧ 8 ♥ 5 ♧ 9 ♧ 2 ♧ K \n",
      "♥ 2 ◇ 3 ♥ K ♥ 1 ♠ J ♥ 3 ♧ 4 ◇ 5 ♠ Q ♥ 6 ◇ A ◇ 4 ♥ 4 \n",
      "♧ 7 ♧ 3 ◇ 7 ◇ Q ♠ 8 ♥ A ♠ K ♠ A ◇ 8 ♠ 4 ♧ A ♠ 9 ♥ J \n",
      "♥ Q ♧ 6 ♥ 9 ◇ K ♠ 3 ◇ 2 ♠ 5 ◇ 9 ♧ 5 ♠ 2 ♧ Q ◇ 1 ♧ J \n",
      "==================================================섞은 후\n"
     ]
    }
   ],
   "source": [
    "# 0 ~ 51 사이의 숫자가 채워진 리스트를 만든다.\n",
    "cards = [i for i in range(52)]\n",
    "# print(cards)\n",
    "\n",
    "# 섞기 전 상태를 출력한다. => 1줄에 숫자 13개씩 출력한다.\n",
    "for i in range(len(cards)):\n",
    "    # print('{:2d}'.format(cards[i]), end=' ')\n",
    "    # print('{:>2s}'.format(number[cards[i] % 13]), end=' ') # 숫자만\n",
    "    # print('{:s}'.format(symbol[cards[i] // 13]), end=' ') # 무늬만\n",
    "    print('{:s}{:>2s}'.format(symbol[cards[i] // 13], number[cards[i] % 13]), end=' ')\n",
    "    if (i+1) % 13 == 0:\n",
    "        print()\n",
    "print('=' * 50 + '섞기 전')\n",
    "\n",
    "random.shuffle(cards)\n",
    "# 섞은 후 상태를 출력한다.\n",
    "for i in range(len(cards)):\n",
    "    print('{:s}{:>2s}'.format(symbol[cards[i] // 13], number[cards[i] % 13]), end=' ')\n",
    "    if (i+1) % 13 == 0:\n",
    "        print()\n",
    "print('=' * 50 + '섞은 후')"
   ]
  }
 ],
 "metadata": {
  "kernelspec": {
   "display_name": "Python 3",
   "language": "python",
   "name": "python3"
  },
  "language_info": {
   "codemirror_mode": {
    "name": "ipython",
    "version": 3
   },
   "file_extension": ".py",
   "mimetype": "text/x-python",
   "name": "python",
   "nbconvert_exporter": "python",
   "pygments_lexer": "ipython3",
   "version": "3.6.8"
  }
 },
 "nbformat": 4,
 "nbformat_minor": 5
}
