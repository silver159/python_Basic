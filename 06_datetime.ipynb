{
 "cells": [
  {
   "cell_type": "markdown",
   "id": "bd4cd386",
   "metadata": {},
   "source": [
    "datetime 모듈  \n",
    "\n",
    "컴퓨터 시스템의 날짜와 시간을 얻어온다.  "
   ]
  },
  {
   "cell_type": "code",
   "execution_count": 1,
   "id": "4b129214",
   "metadata": {},
   "outputs": [
    {
     "name": "stdout",
     "output_type": "stream",
     "text": [
      "2023-07-24 16:42:38.292512\n"
     ]
    }
   ],
   "source": [
    "import datetime # datetime 모듈 전체를 import 한다.\n",
    "now = datetime.datetime.now()\n",
    "print(now)\n",
    "# print(help(datetime))"
   ]
  },
  {
   "cell_type": "code",
   "execution_count": 2,
   "id": "1aa9c2d0",
   "metadata": {},
   "outputs": [
    {
     "name": "stdout",
     "output_type": "stream",
     "text": [
      "2023-07-24 16:42:40.246994\n"
     ]
    }
   ],
   "source": [
    "from datetime import datetime # datetime 모듈에서 datetime 클래스만 import 한다.\n",
    "now2 = datetime.now()\n",
    "print(now2)\n",
    "# print(help(datetime))"
   ]
  },
  {
   "cell_type": "code",
   "execution_count": 3,
   "id": "242cc6db",
   "metadata": {},
   "outputs": [
    {
     "name": "stdout",
     "output_type": "stream",
     "text": [
      "2023-07-24 16:45:03.647800\n"
     ]
    }
   ],
   "source": [
    "from datetime import datetime as dt # import한 datetime 클래스에 dt라는 별명을 지정한다.\n",
    "# import하는 모듈에 별명을 지정한 경우 원래 모듈 이름은 사용할 수 없고 as 뒤의 별명을 사용해야 한다.\n",
    "# now3 = datetime.now() # name 'datetime' is not defined\n",
    "now3 = dt.now()\n",
    "print(now3)"
   ]
  },
  {
   "cell_type": "markdown",
   "id": "7aac4aef",
   "metadata": {},
   "source": [
    "날짜, 시간 데이터에서 년, 월, 일, 시, 분, 초, 밀리초, 마이크로초, 요일 추출하기"
   ]
  },
  {
   "cell_type": "code",
   "execution_count": 5,
   "id": "f97aa453",
   "metadata": {},
   "outputs": [
    {
     "name": "stdout",
     "output_type": "stream",
     "text": [
      "2023-07-24 16:48:30.497535\n",
      "년: 2023\n",
      "월: 7\n",
      "일: 24\n",
      "일: 2023-07-24\n",
      "시: 16\n",
      "분: 48\n",
      "초: 30\n",
      "마이크로초: 497535\n",
      "밀리초: 497\n",
      "요일: 0\n",
      "요일: 월\n"
     ]
    }
   ],
   "source": [
    "from datetime import datetime as dt\n",
    "today = dt.now()\n",
    "print(today)\n",
    "\n",
    "print('년: {}'.format(today.year))\n",
    "print('월: {}'.format(today.month))\n",
    "print('일: {}'.format(today.day))\n",
    "# print('일: {}'.format(today.date())) #<built-in method date of datetime.datetime object at 0x000002B6E0DA4B98>\n",
    "print('시: {}'.format(today.hour))\n",
    "print('분: {}'.format(today.minute))\n",
    "print('초: {}'.format(today.second))\n",
    "print('마이크로초: {}'.format(today.microsecond))\n",
    "print('밀리초: {}'.format(today.microsecond // 1000))\n",
    "# weekday() 메소드로 요일을 숫자로 얻어올 수 있다. => 월(0), 화(1), 수(2), 목(3), 금(4), 토(5), 일(6)\n",
    "print('요일: {}'.format(today.weekday()))\n",
    "week = ['월','화','수','목','금','토','일'] # 리스트\n",
    "print('요일: {}'.format(week[today.weekday()]))"
   ]
  },
  {
   "cell_type": "markdown",
   "id": "023158d6",
   "metadata": {},
   "source": [
    "날짜, 시간 수정하기  "
   ]
  },
  {
   "cell_type": "code",
   "execution_count": 6,
   "id": "eb5c0118",
   "metadata": {},
   "outputs": [
    {
     "name": "stdout",
     "output_type": "stream",
     "text": [
      "2023-07-24 16:52:07.119722\n",
      "2024-07-24 16:52:07.119722\n",
      "2023-11-24 16:52:07.119722\n",
      "2023-07-22 16:52:07.119722\n",
      "2023-07-24 13:52:07.119722\n",
      "2023-07-24 16:22:07.119722\n",
      "2023-07-24 16:52:00.119722\n",
      "2023-07-24 16:52:07.111111\n"
     ]
    }
   ],
   "source": [
    "from datetime import datetime as dt\n",
    "today = dt.now()\n",
    "print(today)\n",
    "\n",
    "print(today.replace(year=2024))\n",
    "print(today.replace(month=11))\n",
    "print(today.replace(day=22))\n",
    "print(today.replace(hour=13))\n",
    "print(today.replace(minute=22))\n",
    "print(today.replace(second=0))\n",
    "print(today.replace(microsecond=111111))"
   ]
  },
  {
   "cell_type": "markdown",
   "id": "ac730ba1",
   "metadata": {},
   "source": [
    "날짜, 시간 데이터 만들기  "
   ]
  },
  {
   "cell_type": "code",
   "execution_count": 16,
   "id": "05d848ba",
   "metadata": {},
   "outputs": [
    {
     "name": "stdout",
     "output_type": "stream",
     "text": [
      "2023.11.22 <class 'str'>\n",
      "2023-11-22 00:00:00 <class 'datetime.datetime'>\n",
      "13:20:01 <class 'str'>\n",
      "2023-07-04 13:20:01 <class 'datetime.datetime'>\n",
      "2023-11-22 13:20:01 <class 'datetime.datetime'>\n"
     ]
    }
   ],
   "source": [
    "from dateutil.parser import parse\n",
    "string = '2023.11.22'\n",
    "print(string, type(string))\n",
    "date = parse(string)\n",
    "print(date, type(date))\n",
    "string = '13:20:01'\n",
    "print(string, type(string))\n",
    "time = parse(string)\n",
    "print(time, type(time))\n",
    "day = parse('2023-11-22 13:20:01')\n",
    "print(day, type(day))"
   ]
  },
  {
   "cell_type": "markdown",
   "id": "ef335e79",
   "metadata": {},
   "source": [
    "두 날짜 데이터 사이의 차이 계산하기  "
   ]
  },
  {
   "cell_type": "code",
   "execution_count": 7,
   "id": "d77ef3fc",
   "metadata": {},
   "outputs": [
    {
     "name": "stdout",
     "output_type": "stream",
     "text": [
      "2023-07-24 16:56:22.670935\n",
      "2023-11-22 13:20:01.123456\n",
      "120 days, 20:23:38.452521\n",
      "120\n",
      "73418\n",
      "452521\n",
      "10441418.452521\n"
     ]
    }
   ],
   "source": [
    "from datetime import datetime as dt\n",
    "from dateutil.parser import parse\n",
    "start = dt.now()\n",
    "print(start)\n",
    "end = parse('2023-11-22 13:20:01.123456')\n",
    "print(end)\n",
    "\n",
    "gap = end - start\n",
    "print(gap)\n",
    "print(gap.days) # 두 날짜 데이터 사이의 일 단위 차이를 얻어온다. => 날짜만\n",
    "print(gap.seconds) # 두 날짜 데이터 사이의 초 단위 차이를 얻어온다. => 시간만\n",
    "print(gap.microseconds) # 두 날짜 데이터 사이의 마이크로초 단위 차이를 얻어온다. => 마이크로초만\n",
    "print(gap.total_seconds()) # 두 날짜 데이터 사이의 차이를 초 단위로 환산해서 얻어온다. => 전체 데이터"
   ]
  },
  {
   "cell_type": "markdown",
   "id": "d01277d1",
   "metadata": {},
   "source": [
    "날짜, 시간 서식 지정하기  \n",
    "날짜데이터.strftime('출력 서식')  \n",
    "\n",
    "날짜 서식  \n",
    "%Y: 년도 4자리, %y: 년도 2자리  \n",
    "%m: 월(숫자), %B: 월(영어 => 전체), %b: 월(영어 => 앞 3글자)  \n",
    "%d: 일, %A: 요일(영어 => 전체), %a: 요일(영어 => 앞 3글자)  "
   ]
  },
  {
   "cell_type": "code",
   "execution_count": 8,
   "id": "11c1780e",
   "metadata": {},
   "outputs": [
    {
     "name": "stdout",
     "output_type": "stream",
     "text": [
      "2023-07-24 17:01:33.600506\n",
      "2023-07-24\n",
      "<class 'str'>\n",
      "23-07-24\n",
      "2023-July-24\n",
      "2023-Jul-24\n",
      "July 24 2023\n",
      "2023-07-24 Mon\n",
      "Monday July 24 2023\n",
      "2023년 07월 24일\n"
     ]
    }
   ],
   "source": [
    "from datetime import datetime as dt\n",
    "today = dt.now()\n",
    "print(today)\n",
    "\n",
    "print(today.strftime('%Y-%m-%d'))\n",
    "print(type(today.strftime('%Y-%m-%d')))\n",
    "print(today.strftime('%y-%m-%d'))\n",
    "print(today.strftime('%Y-%B-%d'))\n",
    "print(today.strftime('%Y-%b-%d'))\n",
    "print(today.strftime('%B %d %Y'))\n",
    "print(today.strftime('%Y-%m-%d %a'))\n",
    "print(today.strftime('%A %B %d %Y'))\n",
    "\n",
    "# 날짜, 시간 서식에 한글을 넣었을 때 유니코드 인코딩 문제로 UnicodeEncodeError가 발생된다.\n",
    "# print(today.strftime('%Y년 %m월 %d일')) # 에러\n",
    "# 날짜, 시간 서식 지정시 UnicodeEncodeError가 발생되면 아래와 같이 코딩한다.\n",
    "print(today.strftime('%Y년 %m월 %d일'.encode('unicode-escape').decode()).encode().decode('unicode-escape'))"
   ]
  },
  {
   "cell_type": "markdown",
   "id": "6b16a3d0",
   "metadata": {},
   "source": [
    "시간 서식  \n",
    "%H: 시간(24시각), %I: 시간(12시각), %M: 분, %S: 초, %f: 마이크로초, %p: AM/PM  "
   ]
  },
  {
   "cell_type": "code",
   "execution_count": 9,
   "id": "1b9757c4",
   "metadata": {},
   "outputs": [
    {
     "name": "stdout",
     "output_type": "stream",
     "text": [
      "2023-07-24 17:06:25.383151\n",
      "17:06:25\n",
      "PM 17:06:25\n",
      "17시 06분 25초\n"
     ]
    }
   ],
   "source": [
    "from datetime import datetime as dt\n",
    "today = dt.now()\n",
    "print(today)\n",
    "\n",
    "print(today.strftime('%H:%M:%S'))\n",
    "print(today.strftime('%p %H:%M:%S'))\n",
    "# print(today.strftime('%H시 %M분 %S초')) # 에러\n",
    "print(today.strftime('%H시 %M분 %S초'.encode('unicode-escape').decode()).encode().decode('unicode-escape'))"
   ]
  }
 ],
 "metadata": {
  "kernelspec": {
   "display_name": "Python 3",
   "language": "python",
   "name": "python3"
  },
  "language_info": {
   "codemirror_mode": {
    "name": "ipython",
    "version": 3
   },
   "file_extension": ".py",
   "mimetype": "text/x-python",
   "name": "python",
   "nbconvert_exporter": "python",
   "pygments_lexer": "ipython3",
   "version": "3.6.8"
  }
 },
 "nbformat": 4,
 "nbformat_minor": 5
}
