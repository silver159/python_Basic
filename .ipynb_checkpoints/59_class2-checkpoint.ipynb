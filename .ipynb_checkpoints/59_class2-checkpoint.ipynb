{
 "cells": [
  {
   "cell_type": "code",
   "execution_count": 1,
   "id": "69bd557f",
   "metadata": {},
   "outputs": [],
   "source": [
    "import math"
   ]
  },
  {
   "cell_type": "code",
   "execution_count": 2,
   "id": "3c6472b2",
   "metadata": {},
   "outputs": [
    {
     "name": "stdout",
     "output_type": "stream",
     "text": [
      "3.141592653589793\n"
     ]
    }
   ],
   "source": [
    "print(math.pi)"
   ]
  },
  {
   "cell_type": "code",
   "execution_count": 3,
   "id": "507ab4e6",
   "metadata": {},
   "outputs": [],
   "source": [
    "# 원의 반지름을 인수로 넘겨받아 초기화하고 원의 너비와 둘레를 계산하는 메소드를 포함하는 클래스\n",
    "class Circle:\n",
    "    def __init__(self, radius=1):\n",
    "        self.radius = radius\n",
    "        \n",
    "    def __str__(self):\n",
    "        return '반지름: {}'.format(self.radius)\n",
    "    \n",
    "    # 원의 둘레를 계산해서 출력하는 메소드\n",
    "    def roundCricle(self):\n",
    "        print('반지름이 {}인 원이 둘레는 {:.2f}입니다.'.format(self.radius, 2*self.radius*math.pi))\n",
    "    \n",
    "    # 원의 너비를 계산해서 출력하는 메소드\n",
    "    def areaCricle(self):\n",
    "        print('반지름이 {}인 원이 너비는 {:.2f}입니다.'.format(self.radius, math.pi*math.pow(self.radius, 2)))"
   ]
  },
  {
   "cell_type": "code",
   "execution_count": 4,
   "id": "21428aac",
   "metadata": {},
   "outputs": [
    {
     "name": "stdout",
     "output_type": "stream",
     "text": [
      "반지름: 5\n",
      "반지름이 5인 원이 둘레는 31.42입니다.\n",
      "반지름이 5인 원이 너비는 78.54입니다.\n"
     ]
    }
   ],
   "source": [
    "circle = Circle(5)\n",
    "print(circle)\n",
    "circle.roundCricle()\n",
    "circle.areaCricle()"
   ]
  }
 ],
 "metadata": {
  "kernelspec": {
   "display_name": "Python 3",
   "language": "python",
   "name": "python3"
  },
  "language_info": {
   "codemirror_mode": {
    "name": "ipython",
    "version": 3
   },
   "file_extension": ".py",
   "mimetype": "text/x-python",
   "name": "python",
   "nbconvert_exporter": "python",
   "pygments_lexer": "ipython3",
   "version": "3.6.8"
  }
 },
 "nbformat": 4,
 "nbformat_minor": 5
}
