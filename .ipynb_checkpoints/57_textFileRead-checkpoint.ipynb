{
 "cells": [
  {
   "cell_type": "code",
   "execution_count": 20,
   "id": "2ccf1a5d",
   "metadata": {},
   "outputs": [
    {
     "name": "stdout",
     "output_type": "stream",
     "text": [
      "data5.txt 파일에 읽기 완료\n",
      "['adskfjl', 'werlkdsjf', '12323487', '349583405', 'asdkjflkdg', 'welkjlkdsjfsd', 'fejlksdjf', '다시한번', '또다시 실행', 'ㅣㅁ나어리ㅏㅁㄴㅇㄹ', '123']\n"
     ]
    }
   ],
   "source": [
    "try:\n",
    "    file = open('./data/data5.txt', 'r')\n",
    "    lines = []\n",
    "    # 텍스트 파일에 저장된 데이터가 몇 줄인지 알 수 없으므로 무할 루프를 돌려서 읽는다.\n",
    "    while True:\n",
    "        # char = file.read() # 텍스트 파일의 데이터를 문자 단위로 읽어온다.\n",
    "        line = file.readline() # 텍스트 파일의 데이터를 1줄씩 읽어온다.\n",
    "        if not line: # 텍스트 파일에서 읽어들인 데이터가 없으면\n",
    "            break\n",
    "        # print(line, end='')\n",
    "        # print(line.strip())\n",
    "        # readline() 메소드로 데이터를 읽어들인 후 strip() 메소드로 문자열 앞, 뒤의 불필요한 공백을 제거하는 것이 좋다.\n",
    "        line = line.strip()\n",
    "        # readline() 메소드로 읽어들인 데이터가 모두 공백이면 저장할 필요가 없다.\n",
    "        if len(line) != 0:\n",
    "            lines.append(line)\n",
    "    file.close()\n",
    "    print('data5.txt 파일에 읽기 완료')\n",
    "except:\n",
    "    print('디스크에 파일이 없습니다.')\n",
    "print(lines)"
   ]
  },
  {
   "cell_type": "code",
   "execution_count": 21,
   "id": "16cdc433",
   "metadata": {},
   "outputs": [
    {
     "name": "stdout",
     "output_type": "stream",
     "text": [
      "<class 'list'>\n",
      "data5.txt 파일에 읽기 완료\n",
      "['adskfjl\\n', 'werlkdsjf\\n', '12323487\\n', '349583405\\n', 'asdkjflkdg\\n', 'welkjlkdsjfsd\\n', 'fejlksdjf\\n', '다시한번\\n', '또다시 실행\\n', 'ㅣㅁ나어리ㅏㅁㄴㅇㄹ\\n', '123\\n']\n"
     ]
    }
   ],
   "source": [
    "try:\n",
    "    file = open('./data/data5.txt', 'r')\n",
    "    # readlines() 메소드는 텍스트 파일 전체 데이터를 한꺼번에 읽어서 리스트로 리턴한다.\n",
    "    lines = file.readlines()\n",
    "    print(type(lines))\n",
    "    file.close()\n",
    "    print('data5.txt 파일에 읽기 완료')\n",
    "except:\n",
    "    print('디스크에 파일이 없습니다.')\n",
    "print(lines)"
   ]
  }
 ],
 "metadata": {
  "kernelspec": {
   "display_name": "Python 3",
   "language": "python",
   "name": "python3"
  },
  "language_info": {
   "codemirror_mode": {
    "name": "ipython",
    "version": 3
   },
   "file_extension": ".py",
   "mimetype": "text/x-python",
   "name": "python",
   "nbconvert_exporter": "python",
   "pygments_lexer": "ipython3",
   "version": "3.6.8"
  }
 },
 "nbformat": 4,
 "nbformat_minor": 5
}
