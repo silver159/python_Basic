{
 "cells": [
  {
   "cell_type": "code",
   "execution_count": 1,
   "id": "490b54c5",
   "metadata": {},
   "outputs": [],
   "source": [
    "import random"
   ]
  },
  {
   "cell_type": "code",
   "execution_count": 11,
   "id": "4b4dc541",
   "metadata": {},
   "outputs": [],
   "source": [
    "# 카드 출력에 사용할 숫자와 무늬를 기억하는 리스트 또는 튜플을 만든다.\n",
    "number = ['A','1','2','3','4','5','6','7','8','9','J','Q','K']\n",
    "symbol = [\"♠\",\"◇\",\"♥\",\"♧\"]"
   ]
  },
  {
   "cell_type": "code",
   "execution_count": 19,
   "id": "2da4a647",
   "metadata": {},
   "outputs": [
    {
     "name": "stdout",
     "output_type": "stream",
     "text": [
      " ♠ ♠ ♠ ♠ ♠ ♠ ♠ ♠ ♠ ♠ ♠ ♠ ♠\n",
      " ◇ ◇ ◇ ◇ ◇ ◇ ◇ ◇ ◇ ◇ ◇ ◇ ◇\n",
      " ♥ ♥ ♥ ♥ ♥ ♥ ♥ ♥ ♥ ♥ ♥ ♥ ♥\n",
      " ♧ ♧ ♧ ♧ ♧ ♧ ♧ ♧ ♧ ♧ ♧ ♧ ♧\n",
      "========================================섞기 전\n",
      " 2  J  6  J  4  1  3  2  A  7  A  5  1 \n",
      " 4  A  K  K  1  J  8  5  9  7  Q  3  7 \n",
      " 8  Q  A  9  4  3  6  8  3  2  2  8  Q \n",
      " 9  9  4  5  6  J  K  7  Q  6  5  1  K \n",
      "========================================섞은 후\n"
     ]
    }
   ],
   "source": [
    "# 0 ~ 51 사이의 숫자가 채워진 리스트를 만든다.\n",
    "cards = [i for i in range(52)]\n",
    "# print(cards)\n",
    "\n",
    "# 섞기 전 상태를 출력한다. => 1줄에 숫자 13개씩 출력한다.\n",
    "for i in range(len(cards)):\n",
    "    # print('{:2d}'.format(cards[i]), end=' ')\n",
    "    # print('{:>2s}'.format(number[cards[i] % 13]), end=' ') # 숫자만\n",
    "    print('{:>2s}'.format(symbol[cards[i] // 13]), end=' ') # 무늬만\n",
    "    if (i+1) % 13 == 0:\n",
    "        print()\n",
    "print('=' * 40 + '섞기 전')\n",
    "\n",
    "random.shuffle(cards)\n",
    "# 섞은 후 상태를 출력한다.\n",
    "for i in range(len(cards)):\n",
    "    print('{:>2s}'.format(number[cards[i]%13]), end=' ')\n",
    "    if (i+1) % 13 == 0:\n",
    "        print()\n",
    "print('=' * 40 + '섞은 후')"
   ]
  }
 ],
 "metadata": {
  "kernelspec": {
   "display_name": "Python 3",
   "language": "python",
   "name": "python3"
  },
  "language_info": {
   "codemirror_mode": {
    "name": "ipython",
    "version": 3
   },
   "file_extension": ".py",
   "mimetype": "text/x-python",
   "name": "python",
   "nbconvert_exporter": "python",
   "pygments_lexer": "ipython3",
   "version": "3.6.8"
  }
 },
 "nbformat": 4,
 "nbformat_minor": 5
}
