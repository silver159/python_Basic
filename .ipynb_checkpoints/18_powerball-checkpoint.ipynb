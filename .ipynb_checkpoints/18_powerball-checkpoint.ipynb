{
 "cells": [
  {
   "cell_type": "code",
   "execution_count": 1,
   "id": "bf645031",
   "metadata": {},
   "outputs": [],
   "source": [
    "import random\n",
    "import time"
   ]
  },
  {
   "cell_type": "code",
   "execution_count": 2,
   "id": "c69847ed",
   "metadata": {},
   "outputs": [
    {
     "name": "stdout",
     "output_type": "stream",
     "text": [
      "흰공: 42, 62, 28, 69, 48, 빨강공 번호: 10\n"
     ]
    }
   ],
   "source": [
    "# powerball: 1 ~ 69 => 5개, 1 ~ 26 => 1개\n",
    "powerball = [i for i in range(1, 70)]\n",
    "random.shuffle(powerball)\n",
    "\n",
    "print('흰공: ', end='')\n",
    "for i in range(5):\n",
    "    print('{:02d}'.format(powerball[i]), end=', ')\n",
    "    time.sleep(1)\n",
    "print('빨강공 번호: {:02d}'.format(random.randint(1,26)))"
   ]
  },
  {
   "cell_type": "markdown",
   "id": "006730c5",
   "metadata": {},
   "source": [
    "내가 한 것"
   ]
  },
  {
   "cell_type": "code",
   "execution_count": 5,
   "id": "7331a153",
   "metadata": {},
   "outputs": [
    {
     "name": "stdout",
     "output_type": "stream",
     "text": [
      "금액을 입력하세요: 5000\n",
      "[34, 4, 8, 25, 6, 32]\n",
      "[16, 8, 39, 26, 4, 43]\n",
      "[40, 23, 20, 29, 24, 2]\n",
      "[16, 10, 23, 31, 15, 6]\n",
      "[8, 25, 1, 37, 23, 6]\n"
     ]
    }
   ],
   "source": [
    "money = int(input('금액을 입력하세요: '))\n",
    "for i in range(money // 1000):\n",
    "    lotto = [i for i in range(1, 46)]\n",
    "    print(random.sample(lotto, 6))"
   ]
  }
 ],
 "metadata": {
  "kernelspec": {
   "display_name": "Python 3",
   "language": "python",
   "name": "python3"
  },
  "language_info": {
   "codemirror_mode": {
    "name": "ipython",
    "version": 3
   },
   "file_extension": ".py",
   "mimetype": "text/x-python",
   "name": "python",
   "nbconvert_exporter": "python",
   "pygments_lexer": "ipython3",
   "version": "3.6.8"
  }
 },
 "nbformat": 4,
 "nbformat_minor": 5
}
