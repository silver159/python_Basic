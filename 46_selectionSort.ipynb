{
 "cells": [
  {
   "cell_type": "markdown",
   "id": "f1a4ea1f",
   "metadata": {},
   "source": [
    "selection sort(선택정렬, 교환법) 알고리즘\n",
    "\n",
    "선택 정렬은 i번째 데이터를 선택해서 나머지 데이터(j번째)와 비교하며 정렬한다.  \n",
    "정렬할 데이터가 n개일 경우 회전수는 n-1번이 된다. => 데이터가 5개면 회전수는 4번이다."
   ]
  },
  {
   "cell_type": "markdown",
   "id": "449a5c74",
   "metadata": {},
   "source": [
    "<img src=\"./images/selectionSort1.png\" width=\"1000\" align=\"left\" title=\"선택정렬\">"
   ]
  },
  {
   "cell_type": "markdown",
   "id": "9ce66944",
   "metadata": {},
   "source": [
    "<img src=\"./images/selectionSort2.png\" width=\"1000\" align=\"left\" title=\"선택정렬\">"
   ]
  },
  {
   "cell_type": "markdown",
   "id": "a61b9c95",
   "metadata": {},
   "source": [
    "<img src=\"./images/selectionSort3.png\" width=\"1000\" align=\"left\" title=\"선택정렬\">"
   ]
  },
  {
   "cell_type": "code",
   "execution_count": 5,
   "id": "954d47ba",
   "metadata": {},
   "outputs": [],
   "source": [
    "'''\n",
    "    n = 5\n",
    "    for i in range(n - 1):\n",
    "        for j in range(i + 1, n):\n",
    "            print(f'[i = {i}, j = {j}] ', end='')\n",
    "        print()\n",
    "'''\n",
    "pass"
   ]
  },
  {
   "cell_type": "code",
   "execution_count": 6,
   "id": "d049b4fc",
   "metadata": {},
   "outputs": [],
   "source": [
    "def selectionSortAsc(data):\n",
    "    for i in range(len(data) - 1):\n",
    "        for j in range(i + 1, len(data)):\n",
    "            # 오름차순 정렬 => 앞(i번째)의 데이터가 뒤(j번째) 데이터보다 크면 데이터를 교환한다.\n",
    "            # 내림차순 정렬 => 앞(i번째)의 데이터가 뒤(j번째) 데이터보다 작으면 데이터를 교환한다.\n",
    "            # 부등호를 '>'에서 '<'로 변경하면 내림차순으로 정렬된다.\n",
    "            if data[i] > data[j]:\n",
    "                data[i], data[j] = data[j], data[i]\n",
    "            # ===== if\n",
    "        # ===== for j => 회전 종료\n",
    "        # print(f'{i+1}회전 결과: {data}')\n",
    "    # ===== for i => 정렬 종료\n",
    "    # print(f'정렬 결과: {data}')\n",
    "    return data"
   ]
  },
  {
   "cell_type": "code",
   "execution_count": 7,
   "id": "68c19c43",
   "metadata": {},
   "outputs": [],
   "source": [
    "def selectionSortDesc(data):\n",
    "    for i in range(len(data) - 1):\n",
    "        for j in range(i + 1, len(data)):\n",
    "            if data[i] < data[j]:\n",
    "                data[i], data[j] = data[j], data[i]\n",
    "    return data"
   ]
  },
  {
   "cell_type": "code",
   "execution_count": 8,
   "id": "41015cae",
   "metadata": {},
   "outputs": [
    {
     "name": "stdout",
     "output_type": "stream",
     "text": [
      "정렬 결과: [1, 3, 4, 8, 9]\n",
      "정렬 결과: [9, 8, 4, 3, 1]\n"
     ]
    }
   ],
   "source": [
    "if __name__ == '__main__':\n",
    "    data = [8,3,4,9,1]\n",
    "    result = selectionSortAsc(data)\n",
    "    print(f'정렬 결과: {result}')\n",
    "    result = selectionSortDesc(data)\n",
    "    print(f'정렬 결과: {result}')"
   ]
  }
 ],
 "metadata": {
  "kernelspec": {
   "display_name": "Python 3",
   "language": "python",
   "name": "python3"
  },
  "language_info": {
   "codemirror_mode": {
    "name": "ipython",
    "version": 3
   },
   "file_extension": ".py",
   "mimetype": "text/x-python",
   "name": "python",
   "nbconvert_exporter": "python",
   "pygments_lexer": "ipython3",
   "version": "3.6.8"
  }
 },
 "nbformat": 4,
 "nbformat_minor": 5
}
